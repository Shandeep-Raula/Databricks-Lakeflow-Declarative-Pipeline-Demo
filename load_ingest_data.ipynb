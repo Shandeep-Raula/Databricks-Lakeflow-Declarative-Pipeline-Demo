{
 "cells": [
  {
   "cell_type": "code",
   "execution_count": 0,
   "metadata": {
    "application/vnd.databricks.v1+cell": {
     "cellMetadata": {
      "byteLimit": 2048000,
      "rowLimit": 10000
     },
     "inputWidgets": {},
     "nuid": "0c9c6198-8db8-4c2e-8385-5be3e518c724",
     "showTitle": false,
     "tableResultSettingsMap": {},
     "title": ""
    }
   },
   "outputs": [],
   "source": [
    "from datetime import datetime, timedelta\n",
    "import random\n",
    "import uuid\n",
    "import pandas as pd"
   ]
  },
  {
   "cell_type": "code",
   "execution_count": 0,
   "metadata": {
    "application/vnd.databricks.v1+cell": {
     "cellMetadata": {
      "byteLimit": 2048000,
      "rowLimit": 10000
     },
     "inputWidgets": {},
     "nuid": "b3723fde-ffd5-4323-8dc8-5e07d799f87c",
     "showTitle": false,
     "tableResultSettingsMap": {},
     "title": ""
    }
   },
   "outputs": [],
   "source": [
    "catalog = 'lakeflow_demo'\n",
    "schema = 'landing'"
   ]
  },
  {
   "cell_type": "markdown",
   "metadata": {
    "application/vnd.databricks.v1+cell": {
     "cellMetadata": {
      "byteLimit": 2048000,
      "rowLimit": 10000
     },
     "inputWidgets": {},
     "nuid": "bf11fe81-768b-4ec1-a4da-2a5441f69d8c",
     "showTitle": false,
     "tableResultSettingsMap": {},
     "title": ""
    }
   },
   "source": [
    "Generate and load Customer Data"
   ]
  },
  {
   "cell_type": "code",
   "execution_count": 0,
   "metadata": {
    "application/vnd.databricks.v1+cell": {
     "cellMetadata": {
      "byteLimit": 2048000,
      "rowLimit": 10000
     },
     "inputWidgets": {},
     "nuid": "05f1fadc-d535-42f0-9f37-d5aba305cc91",
     "showTitle": false,
     "tableResultSettingsMap": {},
     "title": ""
    }
   },
   "outputs": [],
   "source": [
    "def generate_cdc_data_customers(num_rows=20):\n",
    "    # Available CDC operation types\n",
    "    operations = [\"INSERT\", \"UPDATE\", \"DELETE\"] \n",
    "    data = []\n",
    "\n",
    "    # Loop to generate the specified number of CDC records\n",
    "    for i in range(num_rows):\n",
    "        cust_id = i + 1\n",
    "        \n",
    "        # Randomly select a CDC operation\n",
    "        op = random.choice(operations) \n",
    "        \n",
    "        # Generate a random recent timestamp (within the last 60 minutes)\n",
    "        ts = datetime.now() - timedelta(minutes=random.randint(0, 60)) \n",
    "\n",
    "        # Create the CDC record dictionary\n",
    "        record = {\n",
    "            \"customer_id\": cust_id,\n",
    "            \"name\": f\"Customer_{cust_id}\",\n",
    "            \"email\": f\"customer_{cust_id}@example.com\",\n",
    "            # Generate a random US-style phone number suffix\n",
    "            \"phone\": f\"+1-202-555-{random.randint(1000,9999)}\", \n",
    "            \"op\": op,\n",
    "            # Format the timestamp as a string\n",
    "            \"ts\": ts.strftime(\"%Y-%m-%d %H:%M:%S\") \n",
    "        }\n",
    "        \n",
    "        # Add the record to the list\n",
    "        data.append(record)\n",
    "\n",
    "    # Convert the list of records into a pandas DataFrame\n",
    "    return pd.DataFrame(data)"
   ]
  },
  {
   "cell_type": "markdown",
   "metadata": {
    "application/vnd.databricks.v1+cell": {
     "cellMetadata": {
      "byteLimit": 2048000,
      "rowLimit": 10000
     },
     "inputWidgets": {},
     "nuid": "194d4fae-ea80-4152-ac3a-efbdb3709be2",
     "showTitle": false,
     "tableResultSettingsMap": {},
     "title": ""
    }
   },
   "source": [
    "Generate and load Orders data"
   ]
  },
  {
   "cell_type": "code",
   "execution_count": 0,
   "metadata": {
    "application/vnd.databricks.v1+cell": {
     "cellMetadata": {
      "byteLimit": 2048000,
      "rowLimit": 10000
     },
     "inputWidgets": {},
     "nuid": "f463a7dc-98ba-4d6a-bcfb-4dcc5526580c",
     "showTitle": false,
     "tableResultSettingsMap": {},
     "title": ""
    }
   },
   "outputs": [],
   "source": [
    "def generate_cdc_data_orders(num_rows=20):\n",
    "    operations = [\"INSERT\", \"UPDATE\", \"DELETE\"]\n",
    "    data = []\n",
    "\n",
    "    for i in range(num_rows):\n",
    "        # All lines below are indented to belong to the 'for' loop\n",
    "        order_id = uuid.uuid4().hex[:8] # Unique order ID\n",
    "        op = random.choice(operations) \n",
    "        ts = datetime.now() - timedelta(minutes=random.randint(0, 60)) \n",
    "\n",
    "        record = {\n",
    "            \"order_id\": order_id,\n",
    "            \"customer_id\": random.randint(1, 20), # Link to customers\n",
    "            \"order_amount\": round(random.uniform(20, 500), 2), # Random amount\n",
    "            \"order_status\": random.choice([\"Pending\", \"Shipped\", \"Delivered\", \"Cancelled\"]),\n",
    "            \"op\": op,\n",
    "            \"ts\": ts.strftime(\"%Y-%m-%d %H:%M:%S\")\n",
    "        }\n",
    "        \n",
    "        data.append(record)\n",
    "        \n",
    "    # The return statement should be outside the loop but inside the function body\n",
    "    return pd.DataFrame(data)"
   ]
  },
  {
   "cell_type": "code",
   "execution_count": 0,
   "metadata": {
    "application/vnd.databricks.v1+cell": {
     "cellMetadata": {
      "byteLimit": 2048000,
      "rowLimit": 10000
     },
     "inputWidgets": {},
     "nuid": "da42a723-37b9-4349-8196-f2ee7c2b5fab",
     "showTitle": false,
     "tableResultSettingsMap": {},
     "title": ""
    }
   },
   "outputs": [],
   "source": [
    "customers_df = generate_cdc_data_customers()\n",
    "orders_df = generate_cdc_data_orders()"
   ]
  },
  {
   "cell_type": "code",
   "execution_count": 0,
   "metadata": {
    "application/vnd.databricks.v1+cell": {
     "cellMetadata": {
      "byteLimit": 2048000,
      "rowLimit": 10000
     },
     "inputWidgets": {},
     "nuid": "346f63a9-2540-41c8-ba7a-30ae4b6b9d8b",
     "showTitle": false,
     "tableResultSettingsMap": {},
     "title": ""
    }
   },
   "outputs": [],
   "source": [
    "customers_df = spark.createDataFrame(customers_df)\n",
    "orders_df = spark.createDataFrame(orders_df)"
   ]
  },
  {
   "cell_type": "code",
   "execution_count": 0,
   "metadata": {
    "application/vnd.databricks.v1+cell": {
     "cellMetadata": {
      "byteLimit": 2048000,
      "rowLimit": 10000
     },
     "inputWidgets": {},
     "nuid": "00f9458a-0054-4e5f-9540-ff44251fb8e1",
     "showTitle": false,
     "tableResultSettingsMap": {},
     "title": ""
    }
   },
   "outputs": [],
   "source": [
    "# Paths to the volume\n",
    "customers_volume_path = \"/Volumes/lakeflow_demo/landing/cdc_data/customers\"\n",
    "orders_volume_path = \"/Volumes/lakeflow_demo/landing/cdc_data/orders\""
   ]
  },
  {
   "cell_type": "code",
   "execution_count": 0,
   "metadata": {
    "application/vnd.databricks.v1+cell": {
     "cellMetadata": {
      "byteLimit": 2048000,
      "rowLimit": 10000
     },
     "inputWidgets": {},
     "nuid": "ffbabbac-2b43-4009-a297-f8e7897b61ec",
     "showTitle": false,
     "tableResultSettingsMap": {},
     "title": ""
    }
   },
   "outputs": [
    {
     "output_type": "stream",
     "name": "stdout",
     "output_type": "stream",
     "text": [
      "Single CSV file per table written to Databricks Volume.\n"
     ]
    }
   ],
   "source": [
    "customers_df.coalesce(1) \\\n",
    ".write.mode(\"overwrite\") \\\n",
    ".option(\"header\", \"true\") \\\n",
    ".csv(customers_volume_path)\n",
    "\n",
    "# Write orders CDC data as a single CSV file\n",
    "orders_df.coalesce(1) \\\n",
    ".write.mode(\"overwrite\") \\\n",
    ".option(\"header\", \"true\") \\\n",
    ".csv(orders_volume_path)\n",
    "\n",
    "print(\"Single CSV file per table written to Databricks Volume.\")"
   ]
  }
 ],
 "metadata": {
  "application/vnd.databricks.v1+notebook": {
   "computePreferences": null,
   "dashboards": [],
   "environmentMetadata": {
    "base_environment": "",
    "environment_version": "4"
   },
   "inputWidgetPreferences": null,
   "language": "python",
   "notebookMetadata": {
    "pythonIndentUnit": 4
   },
   "notebookName": "load_ingest_data",
   "widgets": {}
  },
  "language_info": {
   "name": "python"
  }
 },
 "nbformat": 4,
 "nbformat_minor": 0
}